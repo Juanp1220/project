{
 "cells": [
  {
   "cell_type": "markdown",
   "id": "30941947-42c4-4e77-ac39-820e22e73f99",
   "metadata": {},
   "source": [
    "# Data Science Tools and Ecosystem"
   ]
  },
  {
   "cell_type": "markdown",
   "id": "882cf467-7d82-4f67-b8b1-68d6e05c81c4",
   "metadata": {},
   "source": [
    "In this notebook, Data Science Tools and Ecosystem are summarized."
   ]
  },
  {
   "cell_type": "markdown",
   "id": "1ac04862-7690-4c51-903f-1da51c65abf8",
   "metadata": {},
   "source": [
    "Some of the popular languages that Data Scientists use are:"
   ]
  },
  {
   "cell_type": "markdown",
   "id": "0f048f5e-5f58-4204-886b-c18854694901",
   "metadata": {},
   "source": [
    "1. Python\n",
    "2. Javascript\n",
    "3. C++"
   ]
  },
  {
   "cell_type": "markdown",
   "id": "ab8958b9-6730-4369-9566-bf5d02588198",
   "metadata": {},
   "source": [
    "Some of the commonly used libraries used by Data Scientists include:"
   ]
  },
  {
   "cell_type": "markdown",
   "id": "1c1bab28-08e9-4cae-85aa-066f4fb58043",
   "metadata": {},
   "source": [
    "1. Apache Spark\n",
    "2. Panda\n",
    "3. Tensorflow "
   ]
  },
  {
   "cell_type": "markdown",
   "id": "6112ad1f-64a8-4119-9bd8-616e754af6a2",
   "metadata": {},
   "source": [
    "|Data Science Tools|\n",
    "|------------------|\n",
    "|Visual studio code|\n",
    "|MySQL             |\n",
    "|Kubernetes        |"
   ]
  },
  {
   "cell_type": "markdown",
   "id": "aa784335-70d4-434c-ac4f-56460dd79c03",
   "metadata": {},
   "source": [
    "### Below are a few examples of evaluating arithmetic expressions in Python"
   ]
  },
  {
   "cell_type": "markdown",
   "id": "9974cc0c-a8a2-4b07-8a94-a53763280287",
   "metadata": {},
   "source": [
    " This a simple arithmetic expression to mutiply then add integers"
   ]
  },
  {
   "cell_type": "code",
   "execution_count": 47,
   "id": "7edd13df-2700-4ed2-b25c-dc99994bdb57",
   "metadata": {},
   "outputs": [
    {
     "data": {
      "text/plain": [
       "17"
      ]
     },
     "execution_count": 47,
     "metadata": {},
     "output_type": "execute_result"
    }
   ],
   "source": [
    "(3*4)+5"
   ]
  },
  {
   "cell_type": "markdown",
   "id": "8b1441bf-1822-46a9-8cef-0576f4d4f911",
   "metadata": {},
   "source": [
    "This will convert 200 minutes to hours by diving by 60This will convert 200 minutes to hours by diving by 60"
   ]
  },
  {
   "cell_type": "code",
   "execution_count": 52,
   "id": "3bdbab1f-cfce-4a81-9176-e701a7894f41",
   "metadata": {},
   "outputs": [
    {
     "data": {
      "text/plain": [
       "3.3333333333333335"
      ]
     },
     "execution_count": 52,
     "metadata": {},
     "output_type": "execute_result"
    }
   ],
   "source": [
    "200 /60  "
   ]
  },
  {
   "cell_type": "markdown",
   "id": "c907c22c-0de2-45f2-818b-9dca39b1f08a",
   "metadata": {},
   "source": [
    "## Author "
   ]
  },
  {
   "cell_type": "code",
   "execution_count": null,
   "id": "3c99a51e-396a-46af-a787-3b46757cc214",
   "metadata": {},
   "outputs": [],
   "source": [
    "Juan Pineda "
   ]
  }
 ],
 "metadata": {
  "kernelspec": {
   "display_name": "anaconda-2024.02-py310",
   "language": "python",
   "name": "conda-env-anaconda-2024.02-py310-py"
  },
  "language_info": {
   "codemirror_mode": {
    "name": "ipython",
    "version": 3
   },
   "file_extension": ".py",
   "mimetype": "text/x-python",
   "name": "python",
   "nbconvert_exporter": "python",
   "pygments_lexer": "ipython3",
   "version": "3.10.14"
  }
 },
 "nbformat": 4,
 "nbformat_minor": 5
}
